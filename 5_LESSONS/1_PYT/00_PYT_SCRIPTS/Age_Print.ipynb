{
 "cells": [
  {
   "cell_type": "code",
   "execution_count": 1,
   "metadata": {},
   "outputs": [],
   "source": [
    "# Age_Print"
   ]
  },
  {
   "cell_type": "code",
   "execution_count": 2,
   "metadata": {},
   "outputs": [
    {
     "name": "stdout",
     "output_type": "stream",
     "text": [
      "Great! You entered valid age : 52\n"
     ]
    }
   ],
   "source": [
    "age = input(\"Enter your age : \")\n",
    "\n",
    "while not age.isdigit() :\n",
    "    print(\"You entered incorrectly!\")\n",
    "    age = input(\"Enter your age correctly please : \")\n",
    "print(\"Great! You entered valid age :\", age)"
   ]
  },
  {
   "cell_type": "code",
   "execution_count": null,
   "metadata": {},
   "outputs": [],
   "source": []
  }
 ],
 "metadata": {
  "kernelspec": {
   "display_name": "Python 3.9.7 64-bit",
   "language": "python",
   "name": "python3"
  },
  "language_info": {
   "codemirror_mode": {
    "name": "ipython",
    "version": 3
   },
   "file_extension": ".py",
   "mimetype": "text/x-python",
   "name": "python",
   "nbconvert_exporter": "python",
   "pygments_lexer": "ipython3",
   "version": "3.9.7"
  },
  "orig_nbformat": 4,
  "vscode": {
   "interpreter": {
    "hash": "78d5379cc5a4e608d385c34b2eb3bb89eeab02a92c9e7d486e469b4c860ee8ca"
   }
  }
 },
 "nbformat": 4,
 "nbformat_minor": 2
}
