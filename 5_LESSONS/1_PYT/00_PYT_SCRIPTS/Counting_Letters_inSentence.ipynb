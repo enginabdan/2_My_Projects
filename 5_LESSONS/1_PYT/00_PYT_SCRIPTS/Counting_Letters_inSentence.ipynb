{
 "cells": [
  {
   "cell_type": "code",
   "execution_count": 3,
   "metadata": {},
   "outputs": [],
   "source": [
    "# Counting_Letters_inSentence"
   ]
  },
  {
   "cell_type": "code",
   "execution_count": 4,
   "metadata": {},
   "outputs": [
    {
     "name": "stdout",
     "output_type": "stream",
     "text": [
      "{'B': 1, 'e': 3, 'n': 2, ' ': 3, 's': 2, 'i': 2, 'ç': 1, 'o': 2, 'k': 1, 'v': 1, 'y': 1, 'r': 1, 'u': 1, 'm': 1, '.': 1}\n"
     ]
    }
   ],
   "source": [
    "a = \"Ben seni çok seviyorum.\"\n",
    "b = {}\n",
    "for n in a :\n",
    "    keys = b.keys()\n",
    "    if n in keys :\n",
    "        b[n] += 1\n",
    "    else :\n",
    "        b[n] = 1\n",
    "print(b)"
   ]
  },
  {
   "cell_type": "code",
   "execution_count": null,
   "metadata": {},
   "outputs": [],
   "source": []
  }
 ],
 "metadata": {
  "interpreter": {
   "hash": "78f499e638b180260314974c742cd0103cf7e397c22b4021a02426f6fead37c4"
  },
  "kernelspec": {
   "display_name": "Python 3.9.7 64-bit",
   "language": "python",
   "name": "python3"
  },
  "language_info": {
   "codemirror_mode": {
    "name": "ipython",
    "version": 3
   },
   "file_extension": ".py",
   "mimetype": "text/x-python",
   "name": "python",
   "nbconvert_exporter": "python",
   "pygments_lexer": "ipython3",
   "version": "3.9.7"
  },
  "orig_nbformat": 4
 },
 "nbformat": 4,
 "nbformat_minor": 2
}
