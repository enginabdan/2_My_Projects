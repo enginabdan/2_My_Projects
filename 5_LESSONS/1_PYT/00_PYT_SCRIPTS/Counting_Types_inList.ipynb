{
 "cells": [
  {
   "cell_type": "code",
   "execution_count": 2,
   "metadata": {},
   "outputs": [],
   "source": [
    "# Counting_Types_inList"
   ]
  },
  {
   "cell_type": "code",
   "execution_count": 3,
   "metadata": {},
   "outputs": [
    {
     "data": {
      "text/plain": [
       "{'int': 2, 'str': 3, 'bool': 1, 'list': 1, 'tuple': 1, 'dict': 2, 'set': 0}"
      ]
     },
     "execution_count": 3,
     "metadata": {},
     "output_type": "execute_result"
    }
   ],
   "source": [
    "veri = [\"a\", \"b\", True, (False, 1), {\"1\" : 2}, [1, 2], {\"2\" : \"two\"}, \"c\", 23, 0]\n",
    "\n",
    "tipler = [\"int\", \"str\", \"bool\", \"list\", \"tuple\", \"dict\", \"set\"]\n",
    "\n",
    "{}.fromkeys(tipler, 0)\n",
    "\n",
    "toplam = {}.fromkeys(tipler, 0)\n",
    "\n",
    "for i in range(len(veri)) :\n",
    "    if type(veri[i]) == int : toplam[\"int\"] += 1\n",
    "    elif type(veri[i]) == str : toplam[\"str\"] += 1\n",
    "    elif type(veri[i]) == bool : toplam[\"bool\"] += 1\n",
    "    elif type(veri[i]) == list : toplam[\"list\"] += 1\n",
    "    elif type(veri[i]) == tuple : toplam[\"tuple\"] += 1\n",
    "    elif type(veri[i]) == dict : toplam[\"dict\"] += 1\n",
    "    elif type(veri[i]) == set : toplam[\"set\"] += 1\n",
    "toplam"
   ]
  },
  {
   "cell_type": "code",
   "execution_count": null,
   "metadata": {},
   "outputs": [],
   "source": []
  }
 ],
 "metadata": {
  "interpreter": {
   "hash": "78f499e638b180260314974c742cd0103cf7e397c22b4021a02426f6fead37c4"
  },
  "kernelspec": {
   "display_name": "Python 3.9.7 64-bit",
   "language": "python",
   "name": "python3"
  },
  "language_info": {
   "codemirror_mode": {
    "name": "ipython",
    "version": 3
   },
   "file_extension": ".py",
   "mimetype": "text/x-python",
   "name": "python",
   "nbconvert_exporter": "python",
   "pygments_lexer": "ipython3",
   "version": "3.9.7"
  },
  "orig_nbformat": 4
 },
 "nbformat": 4,
 "nbformat_minor": 2
}
