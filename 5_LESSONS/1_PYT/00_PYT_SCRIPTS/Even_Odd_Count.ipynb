{
 "cells": [
  {
   "cell_type": "code",
   "execution_count": 4,
   "metadata": {},
   "outputs": [],
   "source": [
    "# Even_Odd_Count"
   ]
  },
  {
   "cell_type": "code",
   "execution_count": null,
   "metadata": {},
   "outputs": [],
   "source": [
    "# MODEL-1\n",
    "num_list = []\n",
    "for i in range(1,6):\n",
    "    k = int(input(f\"Enter the {i}. number\"))\n",
    "    num_list.append(k)\n",
    "    i += 1\n",
    "print(num_list)\n",
    "\n",
    "evens = []\n",
    "odd = []\n",
    "for n in num_list :\n",
    "    if n%2 == 0 :\n",
    "        evens.append(n)\n",
    "    else :\n",
    "        odd.append(n)\n",
    "print(f\"The number of even numbers : {len(evens)}\")\n",
    "print(f\"The number of odd numbers : {len(odd)}\")"
   ]
  },
  {
   "cell_type": "code",
   "execution_count": 5,
   "metadata": {},
   "outputs": [
    {
     "name": "stdout",
     "output_type": "stream",
     "text": [
      "The count of even numbers :  15\n",
      "The count of odd numbers :  15\n"
     ]
    }
   ],
   "source": [
    "# MODEL-2\n",
    "numbers = range(30)\n",
    "numbers\n",
    "\n",
    "evens = 0\n",
    "odds = 0\n",
    "\n",
    "for i in numbers :\n",
    "    if not i%2 :\n",
    "        evens += 1\n",
    "    else:\n",
    "        odds += 1\n",
    "print(\"The count of even numbers : \", evens)\n",
    "print(\"The count of odd numbers : \", odds)"
   ]
  },
  {
   "cell_type": "code",
   "execution_count": 2,
   "metadata": {},
   "outputs": [
    {
     "name": "stdout",
     "output_type": "stream",
     "text": [
      "The count of even numbers :  15\n",
      "The count of odd numbers :  15\n"
     ]
    }
   ],
   "source": [
    "# MODEL-3\n",
    "numbers = range(30)\n",
    "numbers\n",
    "\n",
    "evens = []\n",
    "odds = []\n",
    "\n",
    "for i in numbers :\n",
    "    if i%2 == 0:\n",
    "        evens.append(i)\n",
    "    else:\n",
    "        odds.append(i)\n",
    "print(\"The count of even numbers : \", len(evens))\n",
    "print(\"The count of odd numbers : \", len(odds))"
   ]
  },
  {
   "cell_type": "code",
   "execution_count": null,
   "metadata": {},
   "outputs": [],
   "source": []
  }
 ],
 "metadata": {
  "interpreter": {
   "hash": "78f499e638b180260314974c742cd0103cf7e397c22b4021a02426f6fead37c4"
  },
  "kernelspec": {
   "display_name": "Python 3.9.7 64-bit",
   "language": "python",
   "name": "python3"
  },
  "language_info": {
   "codemirror_mode": {
    "name": "ipython",
    "version": 3
   },
   "file_extension": ".py",
   "mimetype": "text/x-python",
   "name": "python",
   "nbconvert_exporter": "python",
   "pygments_lexer": "ipython3",
   "version": "3.9.7"
  },
  "orig_nbformat": 4
 },
 "nbformat": 4,
 "nbformat_minor": 2
}
