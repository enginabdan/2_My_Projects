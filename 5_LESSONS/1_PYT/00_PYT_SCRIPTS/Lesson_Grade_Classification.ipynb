{
 "cells": [
  {
   "cell_type": "code",
   "execution_count": 1,
   "metadata": {},
   "outputs": [],
   "source": [
    "# Lesson_Grade_Classification"
   ]
  },
  {
   "cell_type": "code",
   "execution_count": 2,
   "metadata": {},
   "outputs": [
    {
     "name": "stdout",
     "output_type": "stream",
     "text": [
      "Your degree is :  B\n"
     ]
    }
   ],
   "source": [
    "score = float(input(\"Enter your score : \"))\n",
    "\n",
    "if score >= 90 :\n",
    "    if score >= 95 :\n",
    "        degree = \"A+\"\n",
    "    else :\n",
    "        degree = \"A\"\n",
    "elif score >= 80 :\n",
    "    if score >= 85 :\n",
    "        degree = \"B+\"\n",
    "    else :\n",
    "        degree = \"B\"\n",
    "else:\n",
    "    degree = \"B-\"\n",
    "    \n",
    "print(\"Your degree is : \", degree)"
   ]
  },
  {
   "cell_type": "code",
   "execution_count": null,
   "metadata": {},
   "outputs": [],
   "source": []
  }
 ],
 "metadata": {
  "interpreter": {
   "hash": "78f499e638b180260314974c742cd0103cf7e397c22b4021a02426f6fead37c4"
  },
  "kernelspec": {
   "display_name": "Python 3.9.7 64-bit",
   "language": "python",
   "name": "python3"
  },
  "language_info": {
   "codemirror_mode": {
    "name": "ipython",
    "version": 3
   },
   "file_extension": ".py",
   "mimetype": "text/x-python",
   "name": "python",
   "nbconvert_exporter": "python",
   "pygments_lexer": "ipython3",
   "version": "3.9.7"
  },
  "orig_nbformat": 4
 },
 "nbformat": 4,
 "nbformat_minor": 2
}
