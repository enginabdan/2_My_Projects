{
 "cells": [
  {
   "cell_type": "code",
   "execution_count": 1,
   "metadata": {},
   "outputs": [],
   "source": [
    "# Longest_Word"
   ]
  },
  {
   "cell_type": "code",
   "execution_count": 3,
   "metadata": {},
   "outputs": [
    {
     "name": "stdout",
     "output_type": "stream",
     "text": [
      "ben giderim o gider arkamdan tık tık eder.\n",
      "the lengt of the longest word is : 8\n"
     ]
    }
   ],
   "source": [
    "sentence = input(\"give me a sentence :\")\n",
    "print(sentence)\n",
    "words = sentence.split()\n",
    "i = 0\n",
    "longest = 0\n",
    "while i < len(words) :\n",
    "    if len(words[i]) > longest :\n",
    "        longest = len(words[i])\n",
    "    i += 1\n",
    "\n",
    "print(\"the lengt of the longest word is :\", longest)"
   ]
  },
  {
   "cell_type": "code",
   "execution_count": null,
   "metadata": {},
   "outputs": [],
   "source": []
  }
 ],
 "metadata": {
  "interpreter": {
   "hash": "78f499e638b180260314974c742cd0103cf7e397c22b4021a02426f6fead37c4"
  },
  "kernelspec": {
   "display_name": "Python 3.9.7 64-bit",
   "language": "python",
   "name": "python3"
  },
  "language_info": {
   "codemirror_mode": {
    "name": "ipython",
    "version": 3
   },
   "file_extension": ".py",
   "mimetype": "text/x-python",
   "name": "python",
   "nbconvert_exporter": "python",
   "pygments_lexer": "ipython3",
   "version": "3.9.7"
  },
  "orig_nbformat": 4
 },
 "nbformat": 4,
 "nbformat_minor": 2
}
