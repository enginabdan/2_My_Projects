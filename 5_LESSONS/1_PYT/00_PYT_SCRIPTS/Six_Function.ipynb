{
 "cells": [
  {
   "cell_type": "code",
   "execution_count": 2,
   "metadata": {},
   "outputs": [],
   "source": [
    "# Six_Function"
   ]
  },
  {
   "cell_type": "code",
   "execution_count": 3,
   "metadata": {},
   "outputs": [],
   "source": [
    "def calc(a, b, c) :\n",
    "    if c == \"+\" :\n",
    "        return(a + b)\n",
    "    elif c == \"-\" :\n",
    "        return(a - b)\n",
    "    elif c == \"*\" :\n",
    "        return(a * b)\n",
    "    elif c == \"/\" :\n",
    "        return(a / b)\n",
    "    elif c == \"%\" :\n",
    "        return(a % b)\n",
    "    elif c == \"//\" :\n",
    "        return(a // b)\n",
    "    else :\n",
    "        return(\"Enter a valid character!!!\")"
   ]
  },
  {
   "cell_type": "code",
   "execution_count": 4,
   "metadata": {},
   "outputs": [
    {
     "name": "stdout",
     "output_type": "stream",
     "text": [
      "9.0\n",
      "5.0\n",
      "%\n",
      "Result is : 4.0\n"
     ]
    }
   ],
   "source": [
    "number_1 = float(input(\"Enter firt number : \"))\n",
    "number_2 = float(input(\"Enter second number : \"))\n",
    "func = input(\"Enter function : \")\n",
    "\n",
    "print(number_1)\n",
    "print(number_2)\n",
    "print(func)\n",
    "print(f\"Result is : {calc(number_1, number_2, func)}\")\n",
    "# Yukarıda fonksiyonda print yazsaydık en son print hata verecekti NoneType diye."
   ]
  },
  {
   "cell_type": "code",
   "execution_count": null,
   "metadata": {},
   "outputs": [],
   "source": []
  }
 ],
 "metadata": {
  "interpreter": {
   "hash": "78f499e638b180260314974c742cd0103cf7e397c22b4021a02426f6fead37c4"
  },
  "kernelspec": {
   "display_name": "Python 3.9.7 64-bit",
   "language": "python",
   "name": "python3"
  },
  "language_info": {
   "codemirror_mode": {
    "name": "ipython",
    "version": 3
   },
   "file_extension": ".py",
   "mimetype": "text/x-python",
   "name": "python",
   "nbconvert_exporter": "python",
   "pygments_lexer": "ipython3",
   "version": "3.9.7"
  },
  "orig_nbformat": 4
 },
 "nbformat": 4,
 "nbformat_minor": 2
}
