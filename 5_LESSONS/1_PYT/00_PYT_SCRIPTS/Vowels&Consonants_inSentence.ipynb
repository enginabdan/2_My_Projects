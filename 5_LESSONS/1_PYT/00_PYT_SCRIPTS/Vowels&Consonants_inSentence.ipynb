{
 "cells": [
  {
   "cell_type": "code",
   "execution_count": 4,
   "metadata": {},
   "outputs": [],
   "source": [
    "# Vowels&Consonants_inSentence"
   ]
  },
  {
   "cell_type": "code",
   "execution_count": 5,
   "metadata": {},
   "outputs": [
    {
     "data": {
      "text/plain": [
       "'a : is a vowel'"
      ]
     },
     "execution_count": 5,
     "metadata": {},
     "output_type": "execute_result"
    }
   ],
   "source": [
    "def filter_vowel(letter) :\n",
    "    vowels = [\"a\", \"e\", \"i\", \"o\", \"u\"]\n",
    "\n",
    "    if letter.lower() in vowels :\n",
    "        return f\"{letter} : is a vowel\"\n",
    "    else :\n",
    "        return f\"{letter} : is not a vowel\"\n",
    "filter_vowel(\"a\")"
   ]
  },
  {
   "cell_type": "code",
   "execution_count": 6,
   "metadata": {},
   "outputs": [
    {
     "name": "stdout",
     "output_type": "stream",
     "text": [
      "e n g i n a z r a n e d a a d e n\n"
     ]
    }
   ],
   "source": [
    "sentence = input(\"Enter a sentence :\")\n",
    "filtering = filter(filter_vowel, sentence)\n",
    "print(*filtering)"
   ]
  },
  {
   "cell_type": "code",
   "execution_count": 7,
   "metadata": {},
   "outputs": [
    {
     "name": "stdout",
     "output_type": "stream",
     "text": [
      "e i a a e a a e\n"
     ]
    }
   ],
   "source": [
    "# Vowels in the Sentence\n",
    "sentence = input(\"Enter a sentence :\")\n",
    "def filter_vowel(letter) :\n",
    "    vowels = [\"a\", \"e\", \"i\", \"o\", \"u\"]\n",
    "\n",
    "    if letter.lower() in vowels :\n",
    "        return True\n",
    "    else :\n",
    "        return False\n",
    "filtering = filter(filter_vowel, sentence.lower())\n",
    "print(*filtering)"
   ]
  },
  {
   "cell_type": "code",
   "execution_count": 8,
   "metadata": {},
   "outputs": [
    {
     "name": "stdout",
     "output_type": "stream",
     "text": [
      "n g n z r n d d n\n"
     ]
    }
   ],
   "source": [
    "# Consonants in the Sentence\n",
    "sentence = input(\"Enter a sentence :\")\n",
    "def filter_vowel(letter) :\n",
    "    vowels = [\"a\", \"e\", \"i\", \"o\", \"u\"]\n",
    "\n",
    "    if letter.lower() in vowels :\n",
    "        return False\n",
    "    else :\n",
    "        return True\n",
    "filtering = filter(filter_vowel, sentence.lower())\n",
    "print(*filtering)"
   ]
  },
  {
   "cell_type": "code",
   "execution_count": null,
   "metadata": {},
   "outputs": [],
   "source": []
  }
 ],
 "metadata": {
  "interpreter": {
   "hash": "78f499e638b180260314974c742cd0103cf7e397c22b4021a02426f6fead37c4"
  },
  "kernelspec": {
   "display_name": "Python 3.9.7 64-bit",
   "language": "python",
   "name": "python3"
  },
  "language_info": {
   "codemirror_mode": {
    "name": "ipython",
    "version": 3
   },
   "file_extension": ".py",
   "mimetype": "text/x-python",
   "name": "python",
   "nbconvert_exporter": "python",
   "pygments_lexer": "ipython3",
   "version": "3.9.7"
  },
  "orig_nbformat": 4
 },
 "nbformat": 4,
 "nbformat_minor": 2
}
