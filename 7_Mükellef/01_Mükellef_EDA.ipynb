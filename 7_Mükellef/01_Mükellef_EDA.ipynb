{
 "cells": [
  {
   "cell_type": "code",
   "execution_count": 1,
   "metadata": {},
   "outputs": [],
   "source": [
    "### Mükellef Tableau Case Study ###\n",
    "\n",
    "# Connect MS SQL Server with Python.\n",
    "# Create Dataset as \"mükellef\" on MS SQL Server via Python.\n",
    "# Load 4 csv Tables to dataset via MS SQL Server.\n",
    "# Get tables with python.\n",
    "# Use Left Join or Full Outer Join to get a unique table.\n",
    "# Exploratory Data Analysis to make a clean data.\n",
    "# Download new, clean unique table as csv to use on Tableau."
   ]
  },
  {
   "cell_type": "code",
   "execution_count": 2,
   "metadata": {},
   "outputs": [],
   "source": [
    "# pip install pyodbc"
   ]
  },
  {
   "cell_type": "code",
   "execution_count": 3,
   "metadata": {},
   "outputs": [],
   "source": [
    "import pandas as pd\n",
    "import pyodbc\n",
    "import sqlalchemy\n",
    "import datetime\n",
    "pd.set_option('display.float_format', lambda x: '%.3f' % x)\n",
    "import warnings\n",
    "warnings.filterwarnings('ignore')"
   ]
  },
  {
   "cell_type": "markdown",
   "metadata": {},
   "source": [
    "### MS SQL Server Connection"
   ]
  },
  {
   "cell_type": "code",
   "execution_count": 4,
   "metadata": {},
   "outputs": [],
   "source": [
    "conn_string = \"driver={ODBC Driver 17 for SQL Server}; server=localhost; database=master; TRUSTED_CONNECTION=yes;\""
   ]
  },
  {
   "cell_type": "code",
   "execution_count": 5,
   "metadata": {},
   "outputs": [],
   "source": [
    "conn = pyodbc.connect(conn_string);"
   ]
  },
  {
   "cell_type": "code",
   "execution_count": 6,
   "metadata": {},
   "outputs": [],
   "source": [
    "crs = conn.cursor()"
   ]
  },
  {
   "cell_type": "code",
   "execution_count": 7,
   "metadata": {},
   "outputs": [],
   "source": [
    "conn.autocommit = True"
   ]
  },
  {
   "cell_type": "code",
   "execution_count": 8,
   "metadata": {},
   "outputs": [],
   "source": [
    "create_database_query = 'Create database mükellef'"
   ]
  },
  {
   "cell_type": "code",
   "execution_count": 9,
   "metadata": {},
   "outputs": [],
   "source": [
    "def create_database (conn, create_database_query):\n",
    "    crs = conn.cursor()\n",
    "    try: \n",
    "        crs.execute(create_database_query)\n",
    "        print(\"Database is Created Succesfully\")\n",
    "    except Error as err:\n",
    "        print(f\"Error:'{err}'\")"
   ]
  },
  {
   "cell_type": "code",
   "execution_count": 10,
   "metadata": {},
   "outputs": [],
   "source": [
    "# create_database(conn, create_database_query)"
   ]
  },
  {
   "cell_type": "code",
   "execution_count": 11,
   "metadata": {},
   "outputs": [],
   "source": [
    "def execute_query(conn, query):\n",
    "    crs = conn.cursor()\n",
    "    try:\n",
    "        crs.execute(query)\n",
    "        conn.commit()\n",
    "        print(\"Query Succeessful!\")\n",
    "    except Error as err:\n",
    "        print(f\"Error:'{err}'\")"
   ]
  },
  {
   "cell_type": "code",
   "execution_count": 12,
   "metadata": {},
   "outputs": [
    {
     "name": "stdout",
     "output_type": "stream",
     "text": [
      "Query Succeessful!\n"
     ]
    }
   ],
   "source": [
    "query = 'USE mükellef'\n",
    "execute_query(conn, query)"
   ]
  },
  {
   "cell_type": "markdown",
   "metadata": {},
   "source": [
    "### Data Info"
   ]
  },
  {
   "cell_type": "code",
   "execution_count": 13,
   "metadata": {},
   "outputs": [
    {
     "name": "stdout",
     "output_type": "stream",
     "text": [
      "Query Succeessful!\n"
     ]
    }
   ],
   "source": [
    "query = 'SELECT COUNT(*) FROM transaction_items'\n",
    "execute_query(conn, query)"
   ]
  },
  {
   "cell_type": "code",
   "execution_count": 14,
   "metadata": {},
   "outputs": [
    {
     "data": {
      "text/html": [
       "<div>\n",
       "<style scoped>\n",
       "    .dataframe tbody tr th:only-of-type {\n",
       "        vertical-align: middle;\n",
       "    }\n",
       "\n",
       "    .dataframe tbody tr th {\n",
       "        vertical-align: top;\n",
       "    }\n",
       "\n",
       "    .dataframe thead th {\n",
       "        text-align: right;\n",
       "    }\n",
       "</style>\n",
       "<table border=\"1\" class=\"dataframe\">\n",
       "  <thead>\n",
       "    <tr style=\"text-align: right;\">\n",
       "      <th></th>\n",
       "      <th>Customer_ID</th>\n",
       "      <th>Products_ID</th>\n",
       "      <th>Price</th>\n",
       "      <th>Refund</th>\n",
       "      <th>Revenue</th>\n",
       "      <th>Share</th>\n",
       "      <th>Commission</th>\n",
       "      <th>Payment_Provider_Commission</th>\n",
       "    </tr>\n",
       "  </thead>\n",
       "  <tbody>\n",
       "    <tr>\n",
       "      <th>0</th>\n",
       "      <td>67212</td>\n",
       "      <td>1</td>\n",
       "      <td>670.240</td>\n",
       "      <td>0.000</td>\n",
       "      <td>120.070</td>\n",
       "      <td>542.800</td>\n",
       "      <td>305.320</td>\n",
       "      <td>7.370</td>\n",
       "    </tr>\n",
       "    <tr>\n",
       "      <th>1</th>\n",
       "      <td>67207</td>\n",
       "      <td>1</td>\n",
       "      <td>609.290</td>\n",
       "      <td>0.000</td>\n",
       "      <td>127.640</td>\n",
       "      <td>474.950</td>\n",
       "      <td>223.900</td>\n",
       "      <td>6.700</td>\n",
       "    </tr>\n",
       "    <tr>\n",
       "      <th>2</th>\n",
       "      <td>67201</td>\n",
       "      <td>1</td>\n",
       "      <td>202.190</td>\n",
       "      <td>0.000</td>\n",
       "      <td>199.970</td>\n",
       "      <td>0.000</td>\n",
       "      <td>0.000</td>\n",
       "      <td>2.220</td>\n",
       "    </tr>\n",
       "    <tr>\n",
       "      <th>3</th>\n",
       "      <td>67197</td>\n",
       "      <td>1</td>\n",
       "      <td>609.290</td>\n",
       "      <td>0.000</td>\n",
       "      <td>127.640</td>\n",
       "      <td>474.950</td>\n",
       "      <td>223.900</td>\n",
       "      <td>6.700</td>\n",
       "    </tr>\n",
       "    <tr>\n",
       "      <th>4</th>\n",
       "      <td>67187</td>\n",
       "      <td>1</td>\n",
       "      <td>670.240</td>\n",
       "      <td>0.000</td>\n",
       "      <td>120.070</td>\n",
       "      <td>542.800</td>\n",
       "      <td>305.320</td>\n",
       "      <td>7.370</td>\n",
       "    </tr>\n",
       "  </tbody>\n",
       "</table>\n",
       "</div>"
      ],
      "text/plain": [
       "   Customer_ID  Products_ID   Price  Refund  Revenue   Share  Commission  \\\n",
       "0        67212            1 670.240   0.000  120.070 542.800     305.320   \n",
       "1        67207            1 609.290   0.000  127.640 474.950     223.900   \n",
       "2        67201            1 202.190   0.000  199.970   0.000       0.000   \n",
       "3        67197            1 609.290   0.000  127.640 474.950     223.900   \n",
       "4        67187            1 670.240   0.000  120.070 542.800     305.320   \n",
       "\n",
       "   Payment_Provider_Commission  \n",
       "0                        7.370  \n",
       "1                        6.700  \n",
       "2                        2.220  \n",
       "3                        6.700  \n",
       "4                        7.370  "
      ]
     },
     "execution_count": 14,
     "metadata": {},
     "output_type": "execute_result"
    }
   ],
   "source": [
    "query = 'SELECT * FROM transaction_items'\n",
    "df1 = pd.read_sql(query, con = conn)\n",
    "df1.head()"
   ]
  },
  {
   "cell_type": "code",
   "execution_count": 15,
   "metadata": {},
   "outputs": [
    {
     "data": {
      "text/plain": [
       "False    2383\n",
       "True      416\n",
       "dtype: int64"
      ]
     },
     "execution_count": 15,
     "metadata": {},
     "output_type": "execute_result"
    }
   ],
   "source": [
    "df1.duplicated().value_counts()"
   ]
  },
  {
   "cell_type": "code",
   "execution_count": 16,
   "metadata": {},
   "outputs": [
    {
     "data": {
      "text/html": [
       "<div>\n",
       "<style scoped>\n",
       "    .dataframe tbody tr th:only-of-type {\n",
       "        vertical-align: middle;\n",
       "    }\n",
       "\n",
       "    .dataframe tbody tr th {\n",
       "        vertical-align: top;\n",
       "    }\n",
       "\n",
       "    .dataframe thead th {\n",
       "        text-align: right;\n",
       "    }\n",
       "</style>\n",
       "<table border=\"1\" class=\"dataframe\">\n",
       "  <thead>\n",
       "    <tr style=\"text-align: right;\">\n",
       "      <th></th>\n",
       "      <th>Customer_ID</th>\n",
       "      <th>ID</th>\n",
       "      <th>Price</th>\n",
       "      <th>Currency</th>\n",
       "      <th>Created_At</th>\n",
       "    </tr>\n",
       "  </thead>\n",
       "  <tbody>\n",
       "    <tr>\n",
       "      <th>0</th>\n",
       "      <td>67212</td>\n",
       "      <td>111323</td>\n",
       "      <td>670.240</td>\n",
       "      <td>TRL</td>\n",
       "      <td>2022-08-19T17:16:26Z</td>\n",
       "    </tr>\n",
       "    <tr>\n",
       "      <th>1</th>\n",
       "      <td>67207</td>\n",
       "      <td>111313</td>\n",
       "      <td>609.290</td>\n",
       "      <td>TRL</td>\n",
       "      <td>2022-08-19T15:44:03Z</td>\n",
       "    </tr>\n",
       "    <tr>\n",
       "      <th>2</th>\n",
       "      <td>67201</td>\n",
       "      <td>111296</td>\n",
       "      <td>202.190</td>\n",
       "      <td>TRL</td>\n",
       "      <td>2022-08-19T13:33:25Z</td>\n",
       "    </tr>\n",
       "    <tr>\n",
       "      <th>3</th>\n",
       "      <td>67197</td>\n",
       "      <td>111321</td>\n",
       "      <td>609.290</td>\n",
       "      <td>TRL</td>\n",
       "      <td>2022-08-19T16:48:41Z</td>\n",
       "    </tr>\n",
       "    <tr>\n",
       "      <th>4</th>\n",
       "      <td>67187</td>\n",
       "      <td>111288</td>\n",
       "      <td>670.240</td>\n",
       "      <td>TRL</td>\n",
       "      <td>2022-08-19T11:34:03Z</td>\n",
       "    </tr>\n",
       "  </tbody>\n",
       "</table>\n",
       "</div>"
      ],
      "text/plain": [
       "   Customer_ID      ID   Price Currency            Created_At\n",
       "0        67212  111323 670.240      TRL  2022-08-19T17:16:26Z\n",
       "1        67207  111313 609.290      TRL  2022-08-19T15:44:03Z\n",
       "2        67201  111296 202.190      TRL  2022-08-19T13:33:25Z\n",
       "3        67197  111321 609.290      TRL  2022-08-19T16:48:41Z\n",
       "4        67187  111288 670.240      TRL  2022-08-19T11:34:03Z"
      ]
     },
     "execution_count": 16,
     "metadata": {},
     "output_type": "execute_result"
    }
   ],
   "source": [
    "query = 'SELECT * FROM transactions'\n",
    "df2 = pd.read_sql(query, con = conn)\n",
    "df2.head()"
   ]
  },
  {
   "cell_type": "code",
   "execution_count": 17,
   "metadata": {},
   "outputs": [
    {
     "data": {
      "text/plain": [
       "False    1931\n",
       "dtype: int64"
      ]
     },
     "execution_count": 17,
     "metadata": {},
     "output_type": "execute_result"
    }
   ],
   "source": [
    "df2.duplicated().value_counts()"
   ]
  },
  {
   "cell_type": "code",
   "execution_count": 18,
   "metadata": {},
   "outputs": [
    {
     "data": {
      "text/html": [
       "<div>\n",
       "<style scoped>\n",
       "    .dataframe tbody tr th:only-of-type {\n",
       "        vertical-align: middle;\n",
       "    }\n",
       "\n",
       "    .dataframe tbody tr th {\n",
       "        vertical-align: top;\n",
       "    }\n",
       "\n",
       "    .dataframe thead th {\n",
       "        text-align: right;\n",
       "    }\n",
       "</style>\n",
       "<table border=\"1\" class=\"dataframe\">\n",
       "  <thead>\n",
       "    <tr style=\"text-align: right;\">\n",
       "      <th></th>\n",
       "      <th>ID</th>\n",
       "      <th>Is_Active</th>\n",
       "      <th>Period</th>\n",
       "      <th>Created_At</th>\n",
       "      <th>First_Paid_At</th>\n",
       "      <th>Last_Paid_At</th>\n",
       "      <th>Type</th>\n",
       "    </tr>\n",
       "  </thead>\n",
       "  <tbody>\n",
       "    <tr>\n",
       "      <th>0</th>\n",
       "      <td>61302</td>\n",
       "      <td>True</td>\n",
       "      <td>monthly</td>\n",
       "      <td>2022-05-28T12:22:27Z</td>\n",
       "      <td>2022-06-13T20:03:20Z</td>\n",
       "      <td>2022-08-13T10:12:04Z</td>\n",
       "      <td>2</td>\n",
       "    </tr>\n",
       "    <tr>\n",
       "      <th>1</th>\n",
       "      <td>61310</td>\n",
       "      <td>True</td>\n",
       "      <td>monthly</td>\n",
       "      <td>2022-05-28T13:31:00Z</td>\n",
       "      <td>2022-05-28T14:15:24Z</td>\n",
       "      <td>2022-08-05T10:13:13Z</td>\n",
       "      <td>2</td>\n",
       "    </tr>\n",
       "    <tr>\n",
       "      <th>2</th>\n",
       "      <td>61319</td>\n",
       "      <td>True</td>\n",
       "      <td>annual</td>\n",
       "      <td>2022-05-28T14:28:56Z</td>\n",
       "      <td>2022-06-06T11:47:57Z</td>\n",
       "      <td>2022-06-06T11:47:57Z</td>\n",
       "      <td>8</td>\n",
       "    </tr>\n",
       "    <tr>\n",
       "      <th>3</th>\n",
       "      <td>61323</td>\n",
       "      <td>True</td>\n",
       "      <td>monthly</td>\n",
       "      <td>2022-05-28T14:43:20Z</td>\n",
       "      <td>2022-05-28T15:00:20Z</td>\n",
       "      <td>2022-07-28T10:35:59Z</td>\n",
       "      <td>2</td>\n",
       "    </tr>\n",
       "    <tr>\n",
       "      <th>4</th>\n",
       "      <td>61326</td>\n",
       "      <td>True</td>\n",
       "      <td>monthly</td>\n",
       "      <td>2022-05-28T15:01:35Z</td>\n",
       "      <td>2022-05-31T11:23:35Z</td>\n",
       "      <td>2022-08-01T10:39:14Z</td>\n",
       "      <td>12</td>\n",
       "    </tr>\n",
       "  </tbody>\n",
       "</table>\n",
       "</div>"
      ],
      "text/plain": [
       "      ID  Is_Active   Period            Created_At         First_Paid_At  \\\n",
       "0  61302       True  monthly  2022-05-28T12:22:27Z  2022-06-13T20:03:20Z   \n",
       "1  61310       True  monthly  2022-05-28T13:31:00Z  2022-05-28T14:15:24Z   \n",
       "2  61319       True   annual  2022-05-28T14:28:56Z  2022-06-06T11:47:57Z   \n",
       "3  61323       True  monthly  2022-05-28T14:43:20Z  2022-05-28T15:00:20Z   \n",
       "4  61326       True  monthly  2022-05-28T15:01:35Z  2022-05-31T11:23:35Z   \n",
       "\n",
       "           Last_Paid_At  Type  \n",
       "0  2022-08-13T10:12:04Z     2  \n",
       "1  2022-08-05T10:13:13Z     2  \n",
       "2  2022-06-06T11:47:57Z     8  \n",
       "3  2022-07-28T10:35:59Z     2  \n",
       "4  2022-08-01T10:39:14Z    12  "
      ]
     },
     "execution_count": 18,
     "metadata": {},
     "output_type": "execute_result"
    }
   ],
   "source": [
    "query = 'SELECT * FROM customers'\n",
    "df3 = pd.read_sql(query, con = conn)\n",
    "df3.head()"
   ]
  },
  {
   "cell_type": "code",
   "execution_count": 19,
   "metadata": {},
   "outputs": [
    {
     "data": {
      "text/plain": [
       "False    1000\n",
       "dtype: int64"
      ]
     },
     "execution_count": 19,
     "metadata": {},
     "output_type": "execute_result"
    }
   ],
   "source": [
    "df3.duplicated().value_counts()"
   ]
  },
  {
   "cell_type": "code",
   "execution_count": 20,
   "metadata": {},
   "outputs": [
    {
     "data": {
      "text/html": [
       "<div>\n",
       "<style scoped>\n",
       "    .dataframe tbody tr th:only-of-type {\n",
       "        vertical-align: middle;\n",
       "    }\n",
       "\n",
       "    .dataframe tbody tr th {\n",
       "        vertical-align: top;\n",
       "    }\n",
       "\n",
       "    .dataframe thead th {\n",
       "        text-align: right;\n",
       "    }\n",
       "</style>\n",
       "<table border=\"1\" class=\"dataframe\">\n",
       "  <thead>\n",
       "    <tr style=\"text-align: right;\">\n",
       "      <th></th>\n",
       "      <th>Customer_ID</th>\n",
       "      <th>Status</th>\n",
       "      <th>Approval_At</th>\n",
       "      <th>Cancel_Reason</th>\n",
       "      <th>Cancel_Request_At</th>\n",
       "      <th>Updated_At</th>\n",
       "    </tr>\n",
       "  </thead>\n",
       "  <tbody>\n",
       "    <tr>\n",
       "      <th>0</th>\n",
       "      <td>66982</td>\n",
       "      <td>waiting_approval</td>\n",
       "      <td>NaT</td>\n",
       "      <td>0</td>\n",
       "      <td>2022-08-18T07:37:43.822Z</td>\n",
       "      <td>2022-08-18T10:37:44Z</td>\n",
       "    </tr>\n",
       "    <tr>\n",
       "      <th>1</th>\n",
       "      <td>66865</td>\n",
       "      <td>waiting_approval</td>\n",
       "      <td>NaT</td>\n",
       "      <td>0</td>\n",
       "      <td>2022-08-16T10:58:39.244Z</td>\n",
       "      <td>2022-08-16T15:03:34Z</td>\n",
       "    </tr>\n",
       "    <tr>\n",
       "      <th>2</th>\n",
       "      <td>66654</td>\n",
       "      <td>approved</td>\n",
       "      <td>2022-08-12 16:20:15</td>\n",
       "      <td>2</td>\n",
       "      <td>2022-08-12T11:16:16.686Z</td>\n",
       "      <td>2022-08-12T16:20:15Z</td>\n",
       "    </tr>\n",
       "    <tr>\n",
       "      <th>3</th>\n",
       "      <td>66538</td>\n",
       "      <td>waiting_approval</td>\n",
       "      <td>NaT</td>\n",
       "      <td>2</td>\n",
       "      <td>2022-08-18T14:27:24.788Z</td>\n",
       "      <td>2022-08-18T17:27:25Z</td>\n",
       "    </tr>\n",
       "    <tr>\n",
       "      <th>4</th>\n",
       "      <td>66526</td>\n",
       "      <td>waiting_approval</td>\n",
       "      <td>NaT</td>\n",
       "      <td>3</td>\n",
       "      <td>2022-08-19T12:51:24.158Z</td>\n",
       "      <td>2022-08-19T15:51:24Z</td>\n",
       "    </tr>\n",
       "  </tbody>\n",
       "</table>\n",
       "</div>"
      ],
      "text/plain": [
       "   Customer_ID            Status         Approval_At  Cancel_Reason  \\\n",
       "0        66982  waiting_approval                 NaT              0   \n",
       "1        66865  waiting_approval                 NaT              0   \n",
       "2        66654          approved 2022-08-12 16:20:15              2   \n",
       "3        66538  waiting_approval                 NaT              2   \n",
       "4        66526  waiting_approval                 NaT              3   \n",
       "\n",
       "          Cancel_Request_At            Updated_At  \n",
       "0  2022-08-18T07:37:43.822Z  2022-08-18T10:37:44Z  \n",
       "1  2022-08-16T10:58:39.244Z  2022-08-16T15:03:34Z  \n",
       "2  2022-08-12T11:16:16.686Z  2022-08-12T16:20:15Z  \n",
       "3  2022-08-18T14:27:24.788Z  2022-08-18T17:27:25Z  \n",
       "4  2022-08-19T12:51:24.158Z  2022-08-19T15:51:24Z  "
      ]
     },
     "execution_count": 20,
     "metadata": {},
     "output_type": "execute_result"
    }
   ],
   "source": [
    "query = 'SELECT * FROM cancel_requests'\n",
    "df4 = pd.read_sql(query, con = conn)\n",
    "df4.head()"
   ]
  },
  {
   "cell_type": "code",
   "execution_count": 21,
   "metadata": {},
   "outputs": [
    {
     "data": {
      "text/plain": [
       "False    177\n",
       "dtype: int64"
      ]
     },
     "execution_count": 21,
     "metadata": {},
     "output_type": "execute_result"
    }
   ],
   "source": [
    "df4.duplicated().value_counts()"
   ]
  },
  {
   "cell_type": "code",
   "execution_count": 22,
   "metadata": {},
   "outputs": [
    {
     "data": {
      "text/html": [
       "<div>\n",
       "<style scoped>\n",
       "    .dataframe tbody tr th:only-of-type {\n",
       "        vertical-align: middle;\n",
       "    }\n",
       "\n",
       "    .dataframe tbody tr th {\n",
       "        vertical-align: top;\n",
       "    }\n",
       "\n",
       "    .dataframe thead th {\n",
       "        text-align: right;\n",
       "    }\n",
       "</style>\n",
       "<table border=\"1\" class=\"dataframe\">\n",
       "  <thead>\n",
       "    <tr style=\"text-align: right;\">\n",
       "      <th></th>\n",
       "      <th>Customer_ID</th>\n",
       "      <th>Products_ID</th>\n",
       "      <th>TI_Price</th>\n",
       "      <th>Refund</th>\n",
       "      <th>Revenue</th>\n",
       "      <th>Share</th>\n",
       "      <th>Commission</th>\n",
       "      <th>Payment_Provider_Commission</th>\n",
       "      <th>Is_Active</th>\n",
       "      <th>Period</th>\n",
       "      <th>...</th>\n",
       "      <th>Type</th>\n",
       "      <th>Status</th>\n",
       "      <th>Approval_At</th>\n",
       "      <th>Cancel_Reason</th>\n",
       "      <th>Cancel_Request_At</th>\n",
       "      <th>Updated_At</th>\n",
       "      <th>TR_ID</th>\n",
       "      <th>TR_Price</th>\n",
       "      <th>Currency</th>\n",
       "      <th>TR_Created_At</th>\n",
       "    </tr>\n",
       "  </thead>\n",
       "  <tbody>\n",
       "    <tr>\n",
       "      <th>0</th>\n",
       "      <td>61302</td>\n",
       "      <td>1</td>\n",
       "      <td>474.950</td>\n",
       "      <td>0.000</td>\n",
       "      <td>130.480</td>\n",
       "      <td>339.250</td>\n",
       "      <td>0.000</td>\n",
       "      <td>5.220</td>\n",
       "      <td>True</td>\n",
       "      <td>monthly</td>\n",
       "      <td>...</td>\n",
       "      <td>2</td>\n",
       "      <td>None</td>\n",
       "      <td>NaT</td>\n",
       "      <td>NaN</td>\n",
       "      <td>None</td>\n",
       "      <td>None</td>\n",
       "      <td>99652</td>\n",
       "      <td>474.950</td>\n",
       "      <td>TRL</td>\n",
       "      <td>2022-06-13T20:03:20Z</td>\n",
       "    </tr>\n",
       "    <tr>\n",
       "      <th>1</th>\n",
       "      <td>61302</td>\n",
       "      <td>1</td>\n",
       "      <td>474.950</td>\n",
       "      <td>0.000</td>\n",
       "      <td>130.480</td>\n",
       "      <td>339.250</td>\n",
       "      <td>0.000</td>\n",
       "      <td>5.220</td>\n",
       "      <td>True</td>\n",
       "      <td>monthly</td>\n",
       "      <td>...</td>\n",
       "      <td>2</td>\n",
       "      <td>None</td>\n",
       "      <td>NaT</td>\n",
       "      <td>NaN</td>\n",
       "      <td>None</td>\n",
       "      <td>None</td>\n",
       "      <td>104884</td>\n",
       "      <td>474.950</td>\n",
       "      <td>TRL</td>\n",
       "      <td>2022-07-13T10:11:22Z</td>\n",
       "    </tr>\n",
       "    <tr>\n",
       "      <th>2</th>\n",
       "      <td>61302</td>\n",
       "      <td>1</td>\n",
       "      <td>474.950</td>\n",
       "      <td>0.000</td>\n",
       "      <td>130.480</td>\n",
       "      <td>339.250</td>\n",
       "      <td>0.000</td>\n",
       "      <td>5.220</td>\n",
       "      <td>True</td>\n",
       "      <td>monthly</td>\n",
       "      <td>...</td>\n",
       "      <td>2</td>\n",
       "      <td>None</td>\n",
       "      <td>NaT</td>\n",
       "      <td>NaN</td>\n",
       "      <td>None</td>\n",
       "      <td>None</td>\n",
       "      <td>110243</td>\n",
       "      <td>541.440</td>\n",
       "      <td>TRL</td>\n",
       "      <td>2022-08-13T10:12:04Z</td>\n",
       "    </tr>\n",
       "    <tr>\n",
       "      <th>3</th>\n",
       "      <td>61302</td>\n",
       "      <td>1</td>\n",
       "      <td>541.440</td>\n",
       "      <td>0.000</td>\n",
       "      <td>60.540</td>\n",
       "      <td>474.950</td>\n",
       "      <td>223.900</td>\n",
       "      <td>5.960</td>\n",
       "      <td>True</td>\n",
       "      <td>monthly</td>\n",
       "      <td>...</td>\n",
       "      <td>2</td>\n",
       "      <td>None</td>\n",
       "      <td>NaT</td>\n",
       "      <td>NaN</td>\n",
       "      <td>None</td>\n",
       "      <td>None</td>\n",
       "      <td>99652</td>\n",
       "      <td>474.950</td>\n",
       "      <td>TRL</td>\n",
       "      <td>2022-06-13T20:03:20Z</td>\n",
       "    </tr>\n",
       "    <tr>\n",
       "      <th>4</th>\n",
       "      <td>61302</td>\n",
       "      <td>1</td>\n",
       "      <td>541.440</td>\n",
       "      <td>0.000</td>\n",
       "      <td>60.540</td>\n",
       "      <td>474.950</td>\n",
       "      <td>223.900</td>\n",
       "      <td>5.960</td>\n",
       "      <td>True</td>\n",
       "      <td>monthly</td>\n",
       "      <td>...</td>\n",
       "      <td>2</td>\n",
       "      <td>None</td>\n",
       "      <td>NaT</td>\n",
       "      <td>NaN</td>\n",
       "      <td>None</td>\n",
       "      <td>None</td>\n",
       "      <td>104884</td>\n",
       "      <td>474.950</td>\n",
       "      <td>TRL</td>\n",
       "      <td>2022-07-13T10:11:22Z</td>\n",
       "    </tr>\n",
       "  </tbody>\n",
       "</table>\n",
       "<p>5 rows × 23 columns</p>\n",
       "</div>"
      ],
      "text/plain": [
       "   Customer_ID  Products_ID  TI_Price  Refund  Revenue   Share  Commission  \\\n",
       "0        61302            1   474.950   0.000  130.480 339.250       0.000   \n",
       "1        61302            1   474.950   0.000  130.480 339.250       0.000   \n",
       "2        61302            1   474.950   0.000  130.480 339.250       0.000   \n",
       "3        61302            1   541.440   0.000   60.540 474.950     223.900   \n",
       "4        61302            1   541.440   0.000   60.540 474.950     223.900   \n",
       "\n",
       "   Payment_Provider_Commission  Is_Active   Period  ... Type Status  \\\n",
       "0                        5.220       True  monthly  ...    2   None   \n",
       "1                        5.220       True  monthly  ...    2   None   \n",
       "2                        5.220       True  monthly  ...    2   None   \n",
       "3                        5.960       True  monthly  ...    2   None   \n",
       "4                        5.960       True  monthly  ...    2   None   \n",
       "\n",
       "  Approval_At  Cancel_Reason Cancel_Request_At Updated_At   TR_ID TR_Price  \\\n",
       "0         NaT            NaN              None       None   99652  474.950   \n",
       "1         NaT            NaN              None       None  104884  474.950   \n",
       "2         NaT            NaN              None       None  110243  541.440   \n",
       "3         NaT            NaN              None       None   99652  474.950   \n",
       "4         NaT            NaN              None       None  104884  474.950   \n",
       "\n",
       "  Currency         TR_Created_At  \n",
       "0      TRL  2022-06-13T20:03:20Z  \n",
       "1      TRL  2022-07-13T10:11:22Z  \n",
       "2      TRL  2022-08-13T10:12:04Z  \n",
       "3      TRL  2022-06-13T20:03:20Z  \n",
       "4      TRL  2022-07-13T10:11:22Z  \n",
       "\n",
       "[5 rows x 23 columns]"
      ]
     },
     "execution_count": 22,
     "metadata": {},
     "output_type": "execute_result"
    }
   ],
   "source": [
    "query = \"SELECT ti.Customer_ID, Products_ID, ti.Price AS TI_Price, Refund, Revenue, Share, Commission, Payment_Provider_Commission,\\\n",
    "                cu.Is_Active, Period, cu.Created_At AS CU_Created_At, First_Paid_At, Last_Paid_At, Type,\\\n",
    "                cr.Status, Approval_At, Cancel_Reason, Cancel_Request_At, Updated_At,\\\n",
    "                tr.ID AS TR_ID, tr.Price AS TR_Price, Currency, tr.Created_At AS TR_Created_At\\\n",
    "         FROM transaction_items ti\\\n",
    "         FULL OUTER JOIN customers cu ON ti.Customer_ID=cu.ID\\\n",
    "         FULL OUTER JOIN cancel_requests cr ON ti.Customer_ID=cr.Customer_ID\\\n",
    "         FULL OUTER JOIN transactions tr ON ti.Customer_ID=tr.Customer_ID\"\n",
    "df = pd.read_sql(query, con = conn)\n",
    "df.head()"
   ]
  },
  {
   "cell_type": "code",
   "execution_count": 23,
   "metadata": {},
   "outputs": [
    {
     "data": {
      "text/plain": [
       "(6834, 23)"
      ]
     },
     "execution_count": 23,
     "metadata": {},
     "output_type": "execute_result"
    }
   ],
   "source": [
    "df.shape"
   ]
  },
  {
   "cell_type": "code",
   "execution_count": 25,
   "metadata": {},
   "outputs": [
    {
     "data": {
      "text/plain": [
       "(6834, 23)"
      ]
     },
     "execution_count": 25,
     "metadata": {},
     "output_type": "execute_result"
    }
   ],
   "source": [
    "df.shape"
   ]
  },
  {
   "cell_type": "code",
   "execution_count": 26,
   "metadata": {},
   "outputs": [
    {
     "name": "stdout",
     "output_type": "stream",
     "text": [
      "23\n",
      "Index(['Customer_ID', 'Products_ID', 'TI_Price', 'Refund', 'Revenue', 'Share',\n",
      "       'Commission', 'Payment_Provider_Commission', 'Is_Active', 'Period',\n",
      "       'CU_Created_At', 'First_Paid_At', 'Last_Paid_At', 'Type', 'Status',\n",
      "       'Approval_At', 'Cancel_Reason', 'Cancel_Request_At', 'Updated_At',\n",
      "       'TR_ID', 'TR_Price', 'Currency', 'TR_Created_At'],\n",
      "      dtype='object')\n"
     ]
    }
   ],
   "source": [
    "print(len(df.columns))\n",
    "print(df.columns)"
   ]
  },
  {
   "cell_type": "code",
   "execution_count": 27,
   "metadata": {},
   "outputs": [
    {
     "data": {
      "text/plain": [
       "False    5569\n",
       "True     1265\n",
       "dtype: int64"
      ]
     },
     "execution_count": 27,
     "metadata": {},
     "output_type": "execute_result"
    }
   ],
   "source": [
    "df.duplicated().value_counts()"
   ]
  },
  {
   "cell_type": "code",
   "execution_count": 28,
   "metadata": {},
   "outputs": [],
   "source": [
    "df.drop_duplicates(inplace=True)"
   ]
  },
  {
   "cell_type": "code",
   "execution_count": 29,
   "metadata": {},
   "outputs": [
    {
     "data": {
      "text/plain": [
       "False    5569\n",
       "dtype: int64"
      ]
     },
     "execution_count": 29,
     "metadata": {},
     "output_type": "execute_result"
    }
   ],
   "source": [
    "df.duplicated().value_counts()"
   ]
  },
  {
   "cell_type": "code",
   "execution_count": 30,
   "metadata": {},
   "outputs": [
    {
     "data": {
      "text/html": [
       "<div>\n",
       "<style scoped>\n",
       "    .dataframe tbody tr th:only-of-type {\n",
       "        vertical-align: middle;\n",
       "    }\n",
       "\n",
       "    .dataframe tbody tr th {\n",
       "        vertical-align: top;\n",
       "    }\n",
       "\n",
       "    .dataframe thead th {\n",
       "        text-align: right;\n",
       "    }\n",
       "</style>\n",
       "<table border=\"1\" class=\"dataframe\">\n",
       "  <thead>\n",
       "    <tr style=\"text-align: right;\">\n",
       "      <th></th>\n",
       "      <th>Customer_ID</th>\n",
       "      <th>Products_ID</th>\n",
       "      <th>TI_Price</th>\n",
       "      <th>Refund</th>\n",
       "      <th>Revenue</th>\n",
       "      <th>Share</th>\n",
       "      <th>Commission</th>\n",
       "      <th>Payment_Provider_Commission</th>\n",
       "      <th>Is_Active</th>\n",
       "      <th>Period</th>\n",
       "      <th>...</th>\n",
       "      <th>Type</th>\n",
       "      <th>Status</th>\n",
       "      <th>Approval_At</th>\n",
       "      <th>Cancel_Reason</th>\n",
       "      <th>Cancel_Request_At</th>\n",
       "      <th>Updated_At</th>\n",
       "      <th>TR_ID</th>\n",
       "      <th>TR_Price</th>\n",
       "      <th>Currency</th>\n",
       "      <th>TR_Created_At</th>\n",
       "    </tr>\n",
       "  </thead>\n",
       "  <tbody>\n",
       "    <tr>\n",
       "      <th>0</th>\n",
       "      <td>61302</td>\n",
       "      <td>1</td>\n",
       "      <td>474.950</td>\n",
       "      <td>0.000</td>\n",
       "      <td>130.480</td>\n",
       "      <td>339.250</td>\n",
       "      <td>0.000</td>\n",
       "      <td>5.220</td>\n",
       "      <td>True</td>\n",
       "      <td>monthly</td>\n",
       "      <td>...</td>\n",
       "      <td>2</td>\n",
       "      <td>None</td>\n",
       "      <td>NaT</td>\n",
       "      <td>NaN</td>\n",
       "      <td>None</td>\n",
       "      <td>None</td>\n",
       "      <td>99652</td>\n",
       "      <td>474.950</td>\n",
       "      <td>TRL</td>\n",
       "      <td>2022-06-13T20:03:20Z</td>\n",
       "    </tr>\n",
       "    <tr>\n",
       "      <th>1</th>\n",
       "      <td>61302</td>\n",
       "      <td>1</td>\n",
       "      <td>474.950</td>\n",
       "      <td>0.000</td>\n",
       "      <td>130.480</td>\n",
       "      <td>339.250</td>\n",
       "      <td>0.000</td>\n",
       "      <td>5.220</td>\n",
       "      <td>True</td>\n",
       "      <td>monthly</td>\n",
       "      <td>...</td>\n",
       "      <td>2</td>\n",
       "      <td>None</td>\n",
       "      <td>NaT</td>\n",
       "      <td>NaN</td>\n",
       "      <td>None</td>\n",
       "      <td>None</td>\n",
       "      <td>104884</td>\n",
       "      <td>474.950</td>\n",
       "      <td>TRL</td>\n",
       "      <td>2022-07-13T10:11:22Z</td>\n",
       "    </tr>\n",
       "    <tr>\n",
       "      <th>2</th>\n",
       "      <td>61302</td>\n",
       "      <td>1</td>\n",
       "      <td>474.950</td>\n",
       "      <td>0.000</td>\n",
       "      <td>130.480</td>\n",
       "      <td>339.250</td>\n",
       "      <td>0.000</td>\n",
       "      <td>5.220</td>\n",
       "      <td>True</td>\n",
       "      <td>monthly</td>\n",
       "      <td>...</td>\n",
       "      <td>2</td>\n",
       "      <td>None</td>\n",
       "      <td>NaT</td>\n",
       "      <td>NaN</td>\n",
       "      <td>None</td>\n",
       "      <td>None</td>\n",
       "      <td>110243</td>\n",
       "      <td>541.440</td>\n",
       "      <td>TRL</td>\n",
       "      <td>2022-08-13T10:12:04Z</td>\n",
       "    </tr>\n",
       "    <tr>\n",
       "      <th>3</th>\n",
       "      <td>61302</td>\n",
       "      <td>1</td>\n",
       "      <td>541.440</td>\n",
       "      <td>0.000</td>\n",
       "      <td>60.540</td>\n",
       "      <td>474.950</td>\n",
       "      <td>223.900</td>\n",
       "      <td>5.960</td>\n",
       "      <td>True</td>\n",
       "      <td>monthly</td>\n",
       "      <td>...</td>\n",
       "      <td>2</td>\n",
       "      <td>None</td>\n",
       "      <td>NaT</td>\n",
       "      <td>NaN</td>\n",
       "      <td>None</td>\n",
       "      <td>None</td>\n",
       "      <td>99652</td>\n",
       "      <td>474.950</td>\n",
       "      <td>TRL</td>\n",
       "      <td>2022-06-13T20:03:20Z</td>\n",
       "    </tr>\n",
       "    <tr>\n",
       "      <th>4</th>\n",
       "      <td>61302</td>\n",
       "      <td>1</td>\n",
       "      <td>541.440</td>\n",
       "      <td>0.000</td>\n",
       "      <td>60.540</td>\n",
       "      <td>474.950</td>\n",
       "      <td>223.900</td>\n",
       "      <td>5.960</td>\n",
       "      <td>True</td>\n",
       "      <td>monthly</td>\n",
       "      <td>...</td>\n",
       "      <td>2</td>\n",
       "      <td>None</td>\n",
       "      <td>NaT</td>\n",
       "      <td>NaN</td>\n",
       "      <td>None</td>\n",
       "      <td>None</td>\n",
       "      <td>104884</td>\n",
       "      <td>474.950</td>\n",
       "      <td>TRL</td>\n",
       "      <td>2022-07-13T10:11:22Z</td>\n",
       "    </tr>\n",
       "  </tbody>\n",
       "</table>\n",
       "<p>5 rows × 23 columns</p>\n",
       "</div>"
      ],
      "text/plain": [
       "   Customer_ID  Products_ID  TI_Price  Refund  Revenue   Share  Commission  \\\n",
       "0        61302            1   474.950   0.000  130.480 339.250       0.000   \n",
       "1        61302            1   474.950   0.000  130.480 339.250       0.000   \n",
       "2        61302            1   474.950   0.000  130.480 339.250       0.000   \n",
       "3        61302            1   541.440   0.000   60.540 474.950     223.900   \n",
       "4        61302            1   541.440   0.000   60.540 474.950     223.900   \n",
       "\n",
       "   Payment_Provider_Commission  Is_Active   Period  ... Type Status  \\\n",
       "0                        5.220       True  monthly  ...    2   None   \n",
       "1                        5.220       True  monthly  ...    2   None   \n",
       "2                        5.220       True  monthly  ...    2   None   \n",
       "3                        5.960       True  monthly  ...    2   None   \n",
       "4                        5.960       True  monthly  ...    2   None   \n",
       "\n",
       "  Approval_At  Cancel_Reason Cancel_Request_At Updated_At   TR_ID TR_Price  \\\n",
       "0         NaT            NaN              None       None   99652  474.950   \n",
       "1         NaT            NaN              None       None  104884  474.950   \n",
       "2         NaT            NaN              None       None  110243  541.440   \n",
       "3         NaT            NaN              None       None   99652  474.950   \n",
       "4         NaT            NaN              None       None  104884  474.950   \n",
       "\n",
       "  Currency         TR_Created_At  \n",
       "0      TRL  2022-06-13T20:03:20Z  \n",
       "1      TRL  2022-07-13T10:11:22Z  \n",
       "2      TRL  2022-08-13T10:12:04Z  \n",
       "3      TRL  2022-06-13T20:03:20Z  \n",
       "4      TRL  2022-07-13T10:11:22Z  \n",
       "\n",
       "[5 rows x 23 columns]"
      ]
     },
     "execution_count": 30,
     "metadata": {},
     "output_type": "execute_result"
    }
   ],
   "source": [
    "df.head()"
   ]
  },
  {
   "cell_type": "code",
   "execution_count": 31,
   "metadata": {},
   "outputs": [
    {
     "data": {
      "text/plain": [
       "(5569, 23)"
      ]
     },
     "execution_count": 31,
     "metadata": {},
     "output_type": "execute_result"
    }
   ],
   "source": [
    "df.shape"
   ]
  },
  {
   "cell_type": "code",
   "execution_count": 32,
   "metadata": {},
   "outputs": [],
   "source": [
    "df.to_csv(\"mükellef.csv\", index=False)"
   ]
  },
  {
   "cell_type": "code",
   "execution_count": 33,
   "metadata": {},
   "outputs": [],
   "source": [
    "df = pd.read_csv(\"mükellef.csv\")"
   ]
  },
  {
   "cell_type": "code",
   "execution_count": 35,
   "metadata": {},
   "outputs": [
    {
     "data": {
      "text/html": [
       "<div>\n",
       "<style scoped>\n",
       "    .dataframe tbody tr th:only-of-type {\n",
       "        vertical-align: middle;\n",
       "    }\n",
       "\n",
       "    .dataframe tbody tr th {\n",
       "        vertical-align: top;\n",
       "    }\n",
       "\n",
       "    .dataframe thead th {\n",
       "        text-align: right;\n",
       "    }\n",
       "</style>\n",
       "<table border=\"1\" class=\"dataframe\">\n",
       "  <thead>\n",
       "    <tr style=\"text-align: right;\">\n",
       "      <th></th>\n",
       "      <th>Customer_ID</th>\n",
       "      <th>Products_ID</th>\n",
       "      <th>TI_Price</th>\n",
       "      <th>Refund</th>\n",
       "      <th>Revenue</th>\n",
       "      <th>Share</th>\n",
       "      <th>Commission</th>\n",
       "      <th>Payment_Provider_Commission</th>\n",
       "      <th>Is_Active</th>\n",
       "      <th>Period</th>\n",
       "      <th>...</th>\n",
       "      <th>Type</th>\n",
       "      <th>Status</th>\n",
       "      <th>Approval_At</th>\n",
       "      <th>Cancel_Reason</th>\n",
       "      <th>Cancel_Request_At</th>\n",
       "      <th>Updated_At</th>\n",
       "      <th>TR_ID</th>\n",
       "      <th>TR_Price</th>\n",
       "      <th>Currency</th>\n",
       "      <th>TR_Created_At</th>\n",
       "    </tr>\n",
       "  </thead>\n",
       "  <tbody>\n",
       "    <tr>\n",
       "      <th>0</th>\n",
       "      <td>61302</td>\n",
       "      <td>1</td>\n",
       "      <td>474.950</td>\n",
       "      <td>0.000</td>\n",
       "      <td>130.480</td>\n",
       "      <td>339.250</td>\n",
       "      <td>0.000</td>\n",
       "      <td>5.220</td>\n",
       "      <td>True</td>\n",
       "      <td>monthly</td>\n",
       "      <td>...</td>\n",
       "      <td>2</td>\n",
       "      <td>NaN</td>\n",
       "      <td>NaN</td>\n",
       "      <td>NaN</td>\n",
       "      <td>NaN</td>\n",
       "      <td>NaN</td>\n",
       "      <td>99652</td>\n",
       "      <td>474.950</td>\n",
       "      <td>TRL</td>\n",
       "      <td>2022-06-13T20:03:20Z</td>\n",
       "    </tr>\n",
       "    <tr>\n",
       "      <th>1</th>\n",
       "      <td>61302</td>\n",
       "      <td>1</td>\n",
       "      <td>474.950</td>\n",
       "      <td>0.000</td>\n",
       "      <td>130.480</td>\n",
       "      <td>339.250</td>\n",
       "      <td>0.000</td>\n",
       "      <td>5.220</td>\n",
       "      <td>True</td>\n",
       "      <td>monthly</td>\n",
       "      <td>...</td>\n",
       "      <td>2</td>\n",
       "      <td>NaN</td>\n",
       "      <td>NaN</td>\n",
       "      <td>NaN</td>\n",
       "      <td>NaN</td>\n",
       "      <td>NaN</td>\n",
       "      <td>104884</td>\n",
       "      <td>474.950</td>\n",
       "      <td>TRL</td>\n",
       "      <td>2022-07-13T10:11:22Z</td>\n",
       "    </tr>\n",
       "    <tr>\n",
       "      <th>2</th>\n",
       "      <td>61302</td>\n",
       "      <td>1</td>\n",
       "      <td>474.950</td>\n",
       "      <td>0.000</td>\n",
       "      <td>130.480</td>\n",
       "      <td>339.250</td>\n",
       "      <td>0.000</td>\n",
       "      <td>5.220</td>\n",
       "      <td>True</td>\n",
       "      <td>monthly</td>\n",
       "      <td>...</td>\n",
       "      <td>2</td>\n",
       "      <td>NaN</td>\n",
       "      <td>NaN</td>\n",
       "      <td>NaN</td>\n",
       "      <td>NaN</td>\n",
       "      <td>NaN</td>\n",
       "      <td>110243</td>\n",
       "      <td>541.440</td>\n",
       "      <td>TRL</td>\n",
       "      <td>2022-08-13T10:12:04Z</td>\n",
       "    </tr>\n",
       "    <tr>\n",
       "      <th>3</th>\n",
       "      <td>61302</td>\n",
       "      <td>1</td>\n",
       "      <td>541.440</td>\n",
       "      <td>0.000</td>\n",
       "      <td>60.540</td>\n",
       "      <td>474.950</td>\n",
       "      <td>223.900</td>\n",
       "      <td>5.960</td>\n",
       "      <td>True</td>\n",
       "      <td>monthly</td>\n",
       "      <td>...</td>\n",
       "      <td>2</td>\n",
       "      <td>NaN</td>\n",
       "      <td>NaN</td>\n",
       "      <td>NaN</td>\n",
       "      <td>NaN</td>\n",
       "      <td>NaN</td>\n",
       "      <td>99652</td>\n",
       "      <td>474.950</td>\n",
       "      <td>TRL</td>\n",
       "      <td>2022-06-13T20:03:20Z</td>\n",
       "    </tr>\n",
       "    <tr>\n",
       "      <th>4</th>\n",
       "      <td>61302</td>\n",
       "      <td>1</td>\n",
       "      <td>541.440</td>\n",
       "      <td>0.000</td>\n",
       "      <td>60.540</td>\n",
       "      <td>474.950</td>\n",
       "      <td>223.900</td>\n",
       "      <td>5.960</td>\n",
       "      <td>True</td>\n",
       "      <td>monthly</td>\n",
       "      <td>...</td>\n",
       "      <td>2</td>\n",
       "      <td>NaN</td>\n",
       "      <td>NaN</td>\n",
       "      <td>NaN</td>\n",
       "      <td>NaN</td>\n",
       "      <td>NaN</td>\n",
       "      <td>104884</td>\n",
       "      <td>474.950</td>\n",
       "      <td>TRL</td>\n",
       "      <td>2022-07-13T10:11:22Z</td>\n",
       "    </tr>\n",
       "  </tbody>\n",
       "</table>\n",
       "<p>5 rows × 23 columns</p>\n",
       "</div>"
      ],
      "text/plain": [
       "   Customer_ID  Products_ID  TI_Price  Refund  Revenue   Share  Commission  \\\n",
       "0        61302            1   474.950   0.000  130.480 339.250       0.000   \n",
       "1        61302            1   474.950   0.000  130.480 339.250       0.000   \n",
       "2        61302            1   474.950   0.000  130.480 339.250       0.000   \n",
       "3        61302            1   541.440   0.000   60.540 474.950     223.900   \n",
       "4        61302            1   541.440   0.000   60.540 474.950     223.900   \n",
       "\n",
       "   Payment_Provider_Commission  Is_Active   Period  ... Type Status  \\\n",
       "0                        5.220       True  monthly  ...    2    NaN   \n",
       "1                        5.220       True  monthly  ...    2    NaN   \n",
       "2                        5.220       True  monthly  ...    2    NaN   \n",
       "3                        5.960       True  monthly  ...    2    NaN   \n",
       "4                        5.960       True  monthly  ...    2    NaN   \n",
       "\n",
       "  Approval_At  Cancel_Reason Cancel_Request_At Updated_At   TR_ID TR_Price  \\\n",
       "0         NaN            NaN               NaN        NaN   99652  474.950   \n",
       "1         NaN            NaN               NaN        NaN  104884  474.950   \n",
       "2         NaN            NaN               NaN        NaN  110243  541.440   \n",
       "3         NaN            NaN               NaN        NaN   99652  474.950   \n",
       "4         NaN            NaN               NaN        NaN  104884  474.950   \n",
       "\n",
       "  Currency         TR_Created_At  \n",
       "0      TRL  2022-06-13T20:03:20Z  \n",
       "1      TRL  2022-07-13T10:11:22Z  \n",
       "2      TRL  2022-08-13T10:12:04Z  \n",
       "3      TRL  2022-06-13T20:03:20Z  \n",
       "4      TRL  2022-07-13T10:11:22Z  \n",
       "\n",
       "[5 rows x 23 columns]"
      ]
     },
     "execution_count": 35,
     "metadata": {},
     "output_type": "execute_result"
    }
   ],
   "source": [
    "df.head()"
   ]
  },
  {
   "cell_type": "code",
   "execution_count": 34,
   "metadata": {},
   "outputs": [
    {
     "data": {
      "text/plain": [
       "(5569, 23)"
      ]
     },
     "execution_count": 34,
     "metadata": {},
     "output_type": "execute_result"
    }
   ],
   "source": [
    "df.shape"
   ]
  },
  {
   "cell_type": "code",
   "execution_count": null,
   "metadata": {},
   "outputs": [],
   "source": []
  }
 ],
 "metadata": {
  "kernelspec": {
   "display_name": "Python 3.9.12 64-bit",
   "language": "python",
   "name": "python3"
  },
  "language_info": {
   "codemirror_mode": {
    "name": "ipython",
    "version": 3
   },
   "file_extension": ".py",
   "mimetype": "text/x-python",
   "name": "python",
   "nbconvert_exporter": "python",
   "pygments_lexer": "ipython3",
   "version": "3.9.12"
  },
  "orig_nbformat": 4,
  "vscode": {
   "interpreter": {
    "hash": "78d5379cc5a4e608d385c34b2eb3bb89eeab02a92c9e7d486e469b4c860ee8ca"
   }
  }
 },
 "nbformat": 4,
 "nbformat_minor": 2
}
